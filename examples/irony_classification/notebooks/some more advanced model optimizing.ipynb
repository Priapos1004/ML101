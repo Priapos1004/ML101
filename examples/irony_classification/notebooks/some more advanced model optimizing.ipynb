{
 "cells": [
  {
   "cell_type": "markdown",
   "id": "a642bbc0",
   "metadata": {},
   "source": [
    "# libraries"
   ]
  },
  {
   "cell_type": "code",
   "execution_count": 1,
   "id": "f9230422",
   "metadata": {
    "ExecuteTime": {
     "end_time": "2021-12-18T13:58:09.089975Z",
     "start_time": "2021-12-18T13:58:07.725446Z"
    }
   },
   "outputs": [],
   "source": [
    "# standard library for data manipulation\n",
    "import pandas as pd\n",
    "# automatic model optimizing\n",
    "from tpot import TPOTClassifier\n",
    "# metrics for evaluation\n",
    "from sklearn.metrics import classification_report"
   ]
  },
  {
   "cell_type": "markdown",
   "id": "9e6e5f19",
   "metadata": {},
   "source": [
    "# data"
   ]
  },
  {
   "cell_type": "code",
   "execution_count": 2,
   "id": "6a3354a4",
   "metadata": {
    "ExecuteTime": {
     "end_time": "2021-12-18T13:58:17.347310Z",
     "start_time": "2021-12-18T13:58:11.350385Z"
    }
   },
   "outputs": [],
   "source": [
    "X_train = pd.read_csv(\"../data/2_processed/X_train_pretrained.csv\")\n",
    "y_train = pd.read_csv(\"../data/2_processed/y_train_pretrained.csv\")\n",
    "X_test = pd.read_csv(\"../data/2_processed/X_test_pretrained.csv\")\n",
    "y_test = pd.read_csv(\"../data/2_processed/y_test_pretrained.csv\")"
   ]
  },
  {
   "cell_type": "markdown",
   "id": "822bf306",
   "metadata": {},
   "source": [
    "# model"
   ]
  },
  {
   "cell_type": "markdown",
   "id": "a983b7fc",
   "metadata": {},
   "source": [
    "## tpot [takes some time]"
   ]
  },
  {
   "cell_type": "code",
   "execution_count": 29,
   "id": "e0588433",
   "metadata": {
    "ExecuteTime": {
     "end_time": "2021-12-18T12:11:51.307718Z",
     "start_time": "2021-12-18T11:40:37.289450Z"
    }
   },
   "outputs": [
    {
     "name": "stdout",
     "output_type": "stream",
     "text": [
      "Warning: xgboost.XGBClassifier is not available and will not be used by TPOT.\n"
     ]
    },
    {
     "name": "stderr",
     "output_type": "stream",
     "text": [
      "/opt/anaconda3/envs/exp/lib/python3.9/site-packages/sklearn/utils/validation.py:63: DataConversionWarning: A column-vector y was passed when a 1d array was expected. Please change the shape of y to (n_samples, ), for example using ravel().\n",
      "  return f(*args, **kwargs)\n"
     ]
    },
    {
     "data": {
      "application/vnd.jupyter.widget-view+json": {
       "model_id": "cbe9d1d63f9d4e99a9b892d29cfc283c",
       "version_major": 2,
       "version_minor": 0
      },
      "text/plain": [
       "Optimization Progress:   0%|          | 0/120 [00:00<?, ?pipeline/s]"
      ]
     },
     "metadata": {},
     "output_type": "display_data"
    },
    {
     "name": "stdout",
     "output_type": "stream",
     "text": [
      "\n",
      "\n",
      "TPOT closed during evaluation in one generation.\n",
      "WARNING: TPOT may not provide a good pipeline if TPOT is stopped/interrupted in a early generation.\n",
      "\n",
      "\n",
      "TPOT closed prematurely. Will use the current best pipeline.\n",
      "\n",
      "Best pipeline: ExtraTreesClassifier(MaxAbsScaler(input_matrix), bootstrap=False, criterion=gini, max_features=0.05, min_samples_leaf=4, min_samples_split=12, n_estimators=100)\n"
     ]
    },
    {
     "name": "stderr",
     "output_type": "stream",
     "text": [
      "/opt/anaconda3/envs/exp/lib/python3.9/site-packages/sklearn/utils/validation.py:63: DataConversionWarning: A column-vector y was passed when a 1d array was expected. Please change the shape of y to (n_samples, ), for example using ravel().\n",
      "  return f(*args, **kwargs)\n"
     ]
    },
    {
     "name": "stdout",
     "output_type": "stream",
     "text": [
      "0.7284348727398364\n"
     ]
    }
   ],
   "source": [
    "# substitute X_train_cv with X_train_tfidf or X_train_pretrained and analog X_test_cv to try different combinations out\n",
    "pipeline_optimizer = TPOTClassifier(generations=5, population_size=20, cv=5,\n",
    "                                    random_state=42, verbosity=2)\n",
    "\n",
    "pipeline_optimizer.fit(X_train, y_train)\n",
    "print(pipeline_optimizer.score(X_test, y_test))"
   ]
  },
  {
   "cell_type": "code",
   "execution_count": null,
   "id": "392f0845",
   "metadata": {},
   "outputs": [],
   "source": [
    "# export tpot model\n",
    "pipeline_optimizer.export('tpot_exported_pipeline.py')"
   ]
  },
  {
   "cell_type": "markdown",
   "id": "3898fce3",
   "metadata": {},
   "source": [
    "## test different standard models"
   ]
  },
  {
   "cell_type": "code",
   "execution_count": 3,
   "id": "7bd349b3",
   "metadata": {
    "ExecuteTime": {
     "end_time": "2021-12-18T13:58:18.508796Z",
     "start_time": "2021-12-18T13:58:18.466562Z"
    }
   },
   "outputs": [],
   "source": [
    "models = {}\n",
    "\n",
    "# Logistic Regression\n",
    "from sklearn.linear_model import LogisticRegression\n",
    "models['Logistic Regression'] = LogisticRegression(max_iter=3000)\n",
    "\n",
    "# Support Vector Machines\n",
    "from sklearn.svm import LinearSVC\n",
    "models['Support Vector Machines'] = LinearSVC()\n",
    "\n",
    "# Decision Trees\n",
    "from sklearn.tree import DecisionTreeClassifier\n",
    "models['Decision Trees'] = DecisionTreeClassifier()\n",
    "\n",
    "# Random Forest\n",
    "from sklearn.ensemble import RandomForestClassifier\n",
    "models['Random Forest'] = RandomForestClassifier()\n",
    "\n",
    "# Naive Bayes\n",
    "from sklearn.naive_bayes import GaussianNB\n",
    "models['Naive Bayes'] = GaussianNB()\n",
    "\n",
    "# K-Nearest Neighbors\n",
    "from sklearn.neighbors import KNeighborsClassifier\n",
    "models['K-Nearest Neighbor'] = KNeighborsClassifier()"
   ]
  },
  {
   "cell_type": "code",
   "execution_count": 4,
   "id": "285b9f41",
   "metadata": {
    "ExecuteTime": {
     "end_time": "2021-12-18T14:01:16.242064Z",
     "start_time": "2021-12-18T13:58:19.284481Z"
    }
   },
   "outputs": [
    {
     "name": "stderr",
     "output_type": "stream",
     "text": [
      "/opt/anaconda3/envs/exp/lib/python3.9/site-packages/sklearn/utils/validation.py:63: DataConversionWarning: A column-vector y was passed when a 1d array was expected. Please change the shape of y to (n_samples, ), for example using ravel().\n",
      "  return f(*args, **kwargs)\n"
     ]
    },
    {
     "name": "stdout",
     "output_type": "stream",
     "text": [
      "classificationreport  Logistic Regression :\n",
      "              precision    recall  f1-score   support\n",
      "\n",
      "           0       0.78      0.80      0.79      4580\n",
      "           1       0.77      0.75      0.76      4103\n",
      "\n",
      "    accuracy                           0.78      8683\n",
      "   macro avg       0.77      0.77      0.77      8683\n",
      "weighted avg       0.78      0.78      0.77      8683\n",
      "\n"
     ]
    },
    {
     "name": "stderr",
     "output_type": "stream",
     "text": [
      "/opt/anaconda3/envs/exp/lib/python3.9/site-packages/sklearn/utils/validation.py:63: DataConversionWarning: A column-vector y was passed when a 1d array was expected. Please change the shape of y to (n_samples, ), for example using ravel().\n",
      "  return f(*args, **kwargs)\n",
      "/opt/anaconda3/envs/exp/lib/python3.9/site-packages/sklearn/svm/_base.py:985: ConvergenceWarning: Liblinear failed to converge, increase the number of iterations.\n",
      "  warnings.warn(\"Liblinear failed to converge, increase \"\n"
     ]
    },
    {
     "name": "stdout",
     "output_type": "stream",
     "text": [
      "classificationreport  Support Vector Machines :\n",
      "              precision    recall  f1-score   support\n",
      "\n",
      "           0       0.78      0.80      0.79      4580\n",
      "           1       0.77      0.75      0.76      4103\n",
      "\n",
      "    accuracy                           0.78      8683\n",
      "   macro avg       0.78      0.77      0.78      8683\n",
      "weighted avg       0.78      0.78      0.78      8683\n",
      "\n",
      "classificationreport  Decision Trees :\n",
      "              precision    recall  f1-score   support\n",
      "\n",
      "           0       0.64      0.62      0.63      4580\n",
      "           1       0.59      0.60      0.60      4103\n",
      "\n",
      "    accuracy                           0.61      8683\n",
      "   macro avg       0.61      0.61      0.61      8683\n",
      "weighted avg       0.61      0.61      0.61      8683\n",
      "\n"
     ]
    },
    {
     "name": "stderr",
     "output_type": "stream",
     "text": [
      "/var/folders/v5/72f66vs1133dr6d7cfwwyxm40000gn/T/ipykernel_2973/1124923346.py:8: DataConversionWarning: A column-vector y was passed when a 1d array was expected. Please change the shape of y to (n_samples,), for example using ravel().\n",
      "  models[key].fit(X_train, y_train)\n"
     ]
    },
    {
     "name": "stdout",
     "output_type": "stream",
     "text": [
      "classificationreport  Random Forest :\n",
      "              precision    recall  f1-score   support\n",
      "\n",
      "           0       0.72      0.80      0.76      4580\n",
      "           1       0.74      0.66      0.70      4103\n",
      "\n",
      "    accuracy                           0.73      8683\n",
      "   macro avg       0.73      0.73      0.73      8683\n",
      "weighted avg       0.73      0.73      0.73      8683\n",
      "\n"
     ]
    },
    {
     "name": "stderr",
     "output_type": "stream",
     "text": [
      "/opt/anaconda3/envs/exp/lib/python3.9/site-packages/sklearn/utils/validation.py:63: DataConversionWarning: A column-vector y was passed when a 1d array was expected. Please change the shape of y to (n_samples, ), for example using ravel().\n",
      "  return f(*args, **kwargs)\n"
     ]
    },
    {
     "name": "stdout",
     "output_type": "stream",
     "text": [
      "classificationreport  Naive Bayes :\n",
      "              precision    recall  f1-score   support\n",
      "\n",
      "           0       0.67      0.71      0.69      4580\n",
      "           1       0.65      0.61      0.63      4103\n",
      "\n",
      "    accuracy                           0.66      8683\n",
      "   macro avg       0.66      0.66      0.66      8683\n",
      "weighted avg       0.66      0.66      0.66      8683\n",
      "\n"
     ]
    },
    {
     "name": "stderr",
     "output_type": "stream",
     "text": [
      "/opt/anaconda3/envs/exp/lib/python3.9/site-packages/sklearn/neighbors/_classification.py:179: DataConversionWarning: A column-vector y was passed when a 1d array was expected. Please change the shape of y to (n_samples,), for example using ravel().\n",
      "  return self._fit(X, y)\n"
     ]
    },
    {
     "name": "stdout",
     "output_type": "stream",
     "text": [
      "classificationreport  K-Nearest Neighbor :\n",
      "              precision    recall  f1-score   support\n",
      "\n",
      "           0       0.70      0.77      0.74      4580\n",
      "           1       0.71      0.64      0.68      4103\n",
      "\n",
      "    accuracy                           0.71      8683\n",
      "   macro avg       0.71      0.71      0.71      8683\n",
      "weighted avg       0.71      0.71      0.71      8683\n",
      "\n"
     ]
    }
   ],
   "source": [
    "from sklearn.metrics import accuracy_score, precision_score, recall_score\n",
    "\n",
    "accuracy, precision, recall = {}, {}, {}\n",
    "\n",
    "for key in models.keys():\n",
    "    \n",
    "    # Fit the classifier model\n",
    "    models[key].fit(X_train, y_train)\n",
    "    \n",
    "    # Prediction \n",
    "    predictions = models[key].predict(X_test)\n",
    "    print(\"classificationreport \",key,\":\")\n",
    "    print(classification_report(y_test, predictions))\n",
    "    \n",
    "    # Calculate Accuracy, Precision and Recall Metrics\n",
    "    accuracy[key] = accuracy_score(y_test, predictions)\n",
    "    precision[key] = precision_score(y_test, predictions)\n",
    "    recall[key] = recall_score(y_test, predictions)"
   ]
  },
  {
   "cell_type": "code",
   "execution_count": 5,
   "id": "130344fc",
   "metadata": {
    "ExecuteTime": {
     "end_time": "2021-12-18T14:01:16.253752Z",
     "start_time": "2021-12-18T14:01:16.243217Z"
    }
   },
   "outputs": [
    {
     "data": {
      "text/html": [
       "<div>\n",
       "<style scoped>\n",
       "    .dataframe tbody tr th:only-of-type {\n",
       "        vertical-align: middle;\n",
       "    }\n",
       "\n",
       "    .dataframe tbody tr th {\n",
       "        vertical-align: top;\n",
       "    }\n",
       "\n",
       "    .dataframe thead th {\n",
       "        text-align: right;\n",
       "    }\n",
       "</style>\n",
       "<table border=\"1\" class=\"dataframe\">\n",
       "  <thead>\n",
       "    <tr style=\"text-align: right;\">\n",
       "      <th></th>\n",
       "      <th>Accuracy</th>\n",
       "      <th>Precision</th>\n",
       "      <th>Recall</th>\n",
       "    </tr>\n",
       "  </thead>\n",
       "  <tbody>\n",
       "    <tr>\n",
       "      <th>Logistic Regression</th>\n",
       "      <td>0.775193</td>\n",
       "      <td>0.770294</td>\n",
       "      <td>0.747014</td>\n",
       "    </tr>\n",
       "    <tr>\n",
       "      <th>Support Vector Machines</th>\n",
       "      <td>0.776229</td>\n",
       "      <td>0.771084</td>\n",
       "      <td>0.748720</td>\n",
       "    </tr>\n",
       "    <tr>\n",
       "      <th>Decision Trees</th>\n",
       "      <td>0.614189</td>\n",
       "      <td>0.589750</td>\n",
       "      <td>0.602973</td>\n",
       "    </tr>\n",
       "    <tr>\n",
       "      <th>Random Forest</th>\n",
       "      <td>0.730623</td>\n",
       "      <td>0.742308</td>\n",
       "      <td>0.658543</td>\n",
       "    </tr>\n",
       "    <tr>\n",
       "      <th>Naive Bayes</th>\n",
       "      <td>0.660025</td>\n",
       "      <td>0.650300</td>\n",
       "      <td>0.606873</td>\n",
       "    </tr>\n",
       "    <tr>\n",
       "      <th>K-Nearest Neighbor</th>\n",
       "      <td>0.709202</td>\n",
       "      <td>0.714986</td>\n",
       "      <td>0.639532</td>\n",
       "    </tr>\n",
       "  </tbody>\n",
       "</table>\n",
       "</div>"
      ],
      "text/plain": [
       "                         Accuracy  Precision    Recall\n",
       "Logistic Regression      0.775193   0.770294  0.747014\n",
       "Support Vector Machines  0.776229   0.771084  0.748720\n",
       "Decision Trees           0.614189   0.589750  0.602973\n",
       "Random Forest            0.730623   0.742308  0.658543\n",
       "Naive Bayes              0.660025   0.650300  0.606873\n",
       "K-Nearest Neighbor       0.709202   0.714986  0.639532"
      ]
     },
     "execution_count": 5,
     "metadata": {},
     "output_type": "execute_result"
    }
   ],
   "source": [
    "import pandas as pd\n",
    "\n",
    "df_model = pd.DataFrame(index=models.keys(), columns=['Accuracy', 'Precision', 'Recall'])\n",
    "df_model['Accuracy'] = accuracy.values()\n",
    "df_model['Precision'] = precision.values()\n",
    "df_model['Recall'] = recall.values()\n",
    "\n",
    "df_model"
   ]
  },
  {
   "cell_type": "code",
   "execution_count": null,
   "id": "f13bdf86",
   "metadata": {},
   "outputs": [],
   "source": []
  }
 ],
 "metadata": {
  "kernelspec": {
   "display_name": "Python 3 (ipykernel)",
   "language": "python",
   "name": "python3"
  },
  "language_info": {
   "codemirror_mode": {
    "name": "ipython",
    "version": 3
   },
   "file_extension": ".py",
   "mimetype": "text/x-python",
   "name": "python",
   "nbconvert_exporter": "python",
   "pygments_lexer": "ipython3",
   "version": "3.9.7"
  },
  "toc": {
   "base_numbering": 1,
   "nav_menu": {},
   "number_sections": true,
   "sideBar": true,
   "skip_h1_title": false,
   "title_cell": "Table of Contents",
   "title_sidebar": "Contents",
   "toc_cell": false,
   "toc_position": {},
   "toc_section_display": true,
   "toc_window_display": false
  }
 },
 "nbformat": 4,
 "nbformat_minor": 5
}
