{
 "cells": [
  {
   "cell_type": "markdown",
   "id": "cb88e8a7",
   "metadata": {
    "ExecuteTime": {
     "end_time": "2021-12-15T18:13:19.788505Z",
     "start_time": "2021-12-15T18:13:19.786803Z"
    }
   },
   "source": [
    "**Model for irony detection**"
   ]
  },
  {
   "cell_type": "markdown",
   "id": "96af4f3f",
   "metadata": {},
   "source": [
    "# libraries"
   ]
  },
  {
   "cell_type": "code",
   "execution_count": 1,
   "id": "906d6d92",
   "metadata": {
    "ExecuteTime": {
     "end_time": "2021-12-18T07:49:10.851870Z",
     "start_time": "2021-12-18T07:49:08.219501Z"
    }
   },
   "outputs": [],
   "source": [
    "# ## data libraries\n",
    "\n",
    "# standard library for data manipulation\n",
    "import pandas as pd\n",
    "# pretrained language model library\n",
    "from sentence_transformers import SentenceTransformer\n",
    "# mathematic library\n",
    "import numpy as np\n",
    "# times processes\n",
    "from tqdm.notebook import tqdm\n",
    "# vectorizer\n",
    "from sklearn.feature_extraction.text import CountVectorizer, TfidfVectorizer\n",
    "# spliting data into test and train\n",
    "from sklearn.model_selection import train_test_split\n",
    "# labelencoder encodes text-labels to numbers\n",
    "from sklearn.preprocessing import LabelEncoder\n",
    "# library for regular expressions\n",
    "import re\n",
    "# library to save objects\n",
    "import pickle\n",
    "\n",
    "# ## model libraries\n",
    "\n",
    "# classification model\n",
    "from sklearn.svm import LinearSVC\n",
    "# regression model\n",
    "from sklearn.linear_model import LogisticRegression\n",
    "# automatic model optimizing\n",
    "from tpot import TPOTClassifier\n",
    "# metrics for evaluation\n",
    "from sklearn.metrics import confusion_matrix, classification_report\n",
    "# graphic library\n",
    "import seaborn as sns"
   ]
  },
  {
   "cell_type": "markdown",
   "id": "362d9566",
   "metadata": {},
   "source": [
    "# data exploration"
   ]
  },
  {
   "cell_type": "markdown",
   "id": "e2dc991a",
   "metadata": {},
   "source": [
    "## import DataFrame"
   ]
  },
  {
   "cell_type": "code",
   "execution_count": 2,
   "id": "9821b884",
   "metadata": {
    "ExecuteTime": {
     "end_time": "2021-12-18T07:49:10.925766Z",
     "start_time": "2021-12-18T07:49:10.853072Z"
    }
   },
   "outputs": [],
   "source": [
    "df = pd.read_csv(\"../data/1_raw/data.csv\")"
   ]
  },
  {
   "cell_type": "markdown",
   "id": "806ed7e5",
   "metadata": {},
   "source": [
    "## show table"
   ]
  },
  {
   "cell_type": "code",
   "execution_count": 3,
   "id": "b2fa2adb",
   "metadata": {
    "ExecuteTime": {
     "end_time": "2021-12-18T07:49:10.935888Z",
     "start_time": "2021-12-18T07:49:10.926734Z"
    },
    "scrolled": true
   },
   "outputs": [
    {
     "data": {
      "text/html": [
       "<div>\n",
       "<style scoped>\n",
       "    .dataframe tbody tr th:only-of-type {\n",
       "        vertical-align: middle;\n",
       "    }\n",
       "\n",
       "    .dataframe tbody tr th {\n",
       "        vertical-align: top;\n",
       "    }\n",
       "\n",
       "    .dataframe thead th {\n",
       "        text-align: right;\n",
       "    }\n",
       "</style>\n",
       "<table border=\"1\" class=\"dataframe\">\n",
       "  <thead>\n",
       "    <tr style=\"text-align: right;\">\n",
       "      <th></th>\n",
       "      <th>tweets</th>\n",
       "      <th>class</th>\n",
       "    </tr>\n",
       "  </thead>\n",
       "  <tbody>\n",
       "    <tr>\n",
       "      <th>0</th>\n",
       "      <td>Fav moment in Sepp Blatter vid (0:20): \"We hav...</td>\n",
       "      <td>irony</td>\n",
       "    </tr>\n",
       "    <tr>\n",
       "      <th>1</th>\n",
       "      <td>Just found this while walking my human.... #ir...</td>\n",
       "      <td>irony</td>\n",
       "    </tr>\n",
       "    <tr>\n",
       "      <th>2</th>\n",
       "      <td>'Disrespected the wife of Prophet' - pseudo li...</td>\n",
       "      <td>irony</td>\n",
       "    </tr>\n",
       "    <tr>\n",
       "      <th>3</th>\n",
       "      <td>Do you know that super yeay satisfying feeling...</td>\n",
       "      <td>irony</td>\n",
       "    </tr>\n",
       "    <tr>\n",
       "      <th>4</th>\n",
       "      <td>If you're going to call someone ignorant and s...</td>\n",
       "      <td>irony</td>\n",
       "    </tr>\n",
       "  </tbody>\n",
       "</table>\n",
       "</div>"
      ],
      "text/plain": [
       "                                              tweets  class\n",
       "0  Fav moment in Sepp Blatter vid (0:20): \"We hav...  irony\n",
       "1  Just found this while walking my human.... #ir...  irony\n",
       "2  'Disrespected the wife of Prophet' - pseudo li...  irony\n",
       "3  Do you know that super yeay satisfying feeling...  irony\n",
       "4  If you're going to call someone ignorant and s...  irony"
      ]
     },
     "execution_count": 3,
     "metadata": {},
     "output_type": "execute_result"
    }
   ],
   "source": [
    "df.head()  # just df would also work, but then the output can be way bigger"
   ]
  },
  {
   "cell_type": "markdown",
   "id": "864f23fb",
   "metadata": {
    "ExecuteTime": {
     "end_time": "2021-12-15T17:35:23.348149Z",
     "start_time": "2021-12-15T17:35:23.346472Z"
    }
   },
   "source": [
    "## general information about a DataFrame"
   ]
  },
  {
   "cell_type": "code",
   "execution_count": 4,
   "id": "60091b15",
   "metadata": {
    "ExecuteTime": {
     "end_time": "2021-12-18T07:49:10.950334Z",
     "start_time": "2021-12-18T07:49:10.937506Z"
    }
   },
   "outputs": [
    {
     "name": "stdout",
     "output_type": "stream",
     "text": [
      "<class 'pandas.core.frame.DataFrame'>\n",
      "RangeIndex: 43459 entries, 0 to 43458\n",
      "Data columns (total 2 columns):\n",
      " #   Column  Non-Null Count  Dtype \n",
      "---  ------  --------------  ----- \n",
      " 0   tweets  43459 non-null  object\n",
      " 1   class   43459 non-null  object\n",
      "dtypes: object(2)\n",
      "memory usage: 679.2+ KB\n"
     ]
    }
   ],
   "source": [
    "df.info()"
   ]
  },
  {
   "cell_type": "code",
   "execution_count": 5,
   "id": "0ee52065",
   "metadata": {
    "ExecuteTime": {
     "end_time": "2021-12-18T07:49:10.978837Z",
     "start_time": "2021-12-18T07:49:10.951315Z"
    },
    "scrolled": true
   },
   "outputs": [
    {
     "data": {
      "text/html": [
       "<div>\n",
       "<style scoped>\n",
       "    .dataframe tbody tr th:only-of-type {\n",
       "        vertical-align: middle;\n",
       "    }\n",
       "\n",
       "    .dataframe tbody tr th {\n",
       "        vertical-align: top;\n",
       "    }\n",
       "\n",
       "    .dataframe thead th {\n",
       "        text-align: right;\n",
       "    }\n",
       "</style>\n",
       "<table border=\"1\" class=\"dataframe\">\n",
       "  <thead>\n",
       "    <tr style=\"text-align: right;\">\n",
       "      <th></th>\n",
       "      <th>tweets</th>\n",
       "      <th>class</th>\n",
       "    </tr>\n",
       "  </thead>\n",
       "  <tbody>\n",
       "    <tr>\n",
       "      <th>count</th>\n",
       "      <td>43459</td>\n",
       "      <td>43459</td>\n",
       "    </tr>\n",
       "    <tr>\n",
       "      <th>unique</th>\n",
       "      <td>43413</td>\n",
       "      <td>2</td>\n",
       "    </tr>\n",
       "    <tr>\n",
       "      <th>top</th>\n",
       "      <td>$$$=&amp;gt;&amp;gt; #peace #love #freedom\\n#fight for...</td>\n",
       "      <td>irony</td>\n",
       "    </tr>\n",
       "    <tr>\n",
       "      <th>freq</th>\n",
       "      <td>14</td>\n",
       "      <td>23005</td>\n",
       "    </tr>\n",
       "  </tbody>\n",
       "</table>\n",
       "</div>"
      ],
      "text/plain": [
       "                                                   tweets  class\n",
       "count                                               43459  43459\n",
       "unique                                              43413      2\n",
       "top     $$$=&gt;&gt; #peace #love #freedom\\n#fight for...  irony\n",
       "freq                                                   14  23005"
      ]
     },
     "execution_count": 5,
     "metadata": {},
     "output_type": "execute_result"
    }
   ],
   "source": [
    "# df.describe() makes only sense for numeric data\n",
    "df.describe()"
   ]
  },
  {
   "cell_type": "markdown",
   "id": "356fb817",
   "metadata": {},
   "source": [
    "## look into specific row"
   ]
  },
  {
   "cell_type": "code",
   "execution_count": 6,
   "id": "383d2a9b",
   "metadata": {
    "ExecuteTime": {
     "end_time": "2021-12-18T07:49:10.982714Z",
     "start_time": "2021-12-18T07:49:10.979796Z"
    },
    "scrolled": true
   },
   "outputs": [
    {
     "data": {
      "text/plain": [
       "'Fav moment in Sepp Blatter vid (0:20): \"We have to clean here first. This has nothing to do with football.\" https://t.co/4dhWOK9x2e #irony'"
      ]
     },
     "execution_count": 6,
     "metadata": {},
     "output_type": "execute_result"
    }
   ],
   "source": [
    "df.iloc[0][\"tweets\"]"
   ]
  },
  {
   "cell_type": "code",
   "execution_count": 7,
   "id": "0b2fb475",
   "metadata": {
    "ExecuteTime": {
     "end_time": "2021-12-18T07:49:10.986513Z",
     "start_time": "2021-12-18T07:49:10.983526Z"
    }
   },
   "outputs": [
    {
     "data": {
      "text/plain": [
       "'irony'"
      ]
     },
     "execution_count": 7,
     "metadata": {},
     "output_type": "execute_result"
    }
   ],
   "source": [
    "df.iloc[0][\"class\"]"
   ]
  },
  {
   "cell_type": "markdown",
   "id": "027394a4",
   "metadata": {},
   "source": [
    "--> hashtags are a problem because they reveal the class"
   ]
  },
  {
   "cell_type": "markdown",
   "id": "1f658213",
   "metadata": {},
   "source": [
    "## number of null values per column"
   ]
  },
  {
   "cell_type": "code",
   "execution_count": 8,
   "id": "a9a03d79",
   "metadata": {
    "ExecuteTime": {
     "end_time": "2021-12-18T07:49:10.994707Z",
     "start_time": "2021-12-18T07:49:10.987451Z"
    }
   },
   "outputs": [
    {
     "data": {
      "text/plain": [
       "tweets    0\n",
       "class     0\n",
       "dtype: int64"
      ]
     },
     "execution_count": 8,
     "metadata": {},
     "output_type": "execute_result"
    }
   ],
   "source": [
    "df.isnull().sum()"
   ]
  },
  {
   "cell_type": "markdown",
   "id": "2bfc3d4e",
   "metadata": {},
   "source": [
    "## number of duplicated rows"
   ]
  },
  {
   "cell_type": "code",
   "execution_count": 9,
   "id": "ac9d8200",
   "metadata": {
    "ExecuteTime": {
     "end_time": "2021-12-18T07:49:11.021121Z",
     "start_time": "2021-12-18T07:49:10.995965Z"
    }
   },
   "outputs": [
    {
     "data": {
      "text/plain": [
       "46"
      ]
     },
     "execution_count": 9,
     "metadata": {},
     "output_type": "execute_result"
    }
   ],
   "source": [
    "df.duplicated().sum()"
   ]
  },
  {
   "cell_type": "markdown",
   "id": "e0621569",
   "metadata": {},
   "source": [
    "## balance of target column"
   ]
  },
  {
   "cell_type": "markdown",
   "id": "da971761",
   "metadata": {},
   "source": [
    "### number of rows per unique value"
   ]
  },
  {
   "cell_type": "code",
   "execution_count": 10,
   "id": "86dc21dd",
   "metadata": {
    "ExecuteTime": {
     "end_time": "2021-12-18T07:49:11.028510Z",
     "start_time": "2021-12-18T07:49:11.023423Z"
    }
   },
   "outputs": [
    {
     "data": {
      "text/plain": [
       "irony      23005\n",
       "regular    20454\n",
       "Name: class, dtype: int64"
      ]
     },
     "execution_count": 10,
     "metadata": {},
     "output_type": "execute_result"
    }
   ],
   "source": [
    "df[\"class\"].value_counts()"
   ]
  },
  {
   "cell_type": "markdown",
   "id": "552489d1",
   "metadata": {},
   "source": [
    "### graphic"
   ]
  },
  {
   "cell_type": "code",
   "execution_count": 11,
   "id": "c35bacce",
   "metadata": {
    "ExecuteTime": {
     "end_time": "2021-12-18T07:49:11.121826Z",
     "start_time": "2021-12-18T07:49:11.029501Z"
    }
   },
   "outputs": [
    {
     "data": {
      "text/plain": [
       "<AxesSubplot:>"
      ]
     },
     "execution_count": 11,
     "metadata": {},
     "output_type": "execute_result"
    },
    {
     "data": {
      "image/png": "[encoded data removed]",
      "text/plain": [
       "<Figure size 432x288 with 1 Axes>"
      ]
     },
     "metadata": {
      "needs_background": "light"
     },
     "output_type": "display_data"
    }
   ],
   "source": [
    "df[\"class\"].hist()"
   ]
  },
  {
   "cell_type": "markdown",
   "id": "a2d4ef15",
   "metadata": {},
   "source": [
    "# data preprocessing"
   ]
  },
  {
   "cell_type": "markdown",
   "id": "7b158d18",
   "metadata": {},
   "source": [
    "## delete NaN rows"
   ]
  },
  {
   "cell_type": "code",
   "execution_count": 12,
   "id": "0d65c142",
   "metadata": {
    "ExecuteTime": {
     "end_time": "2021-12-18T07:49:11.132359Z",
     "start_time": "2021-12-18T07:49:11.122797Z"
    }
   },
   "outputs": [],
   "source": [
    "df = df[df[\"tweets\"].notna()]\n",
    "df = df[df[\"class\"].notna()]"
   ]
  },
  {
   "cell_type": "markdown",
   "id": "611f81cd",
   "metadata": {},
   "source": [
    "## delete duplicated rows"
   ]
  },
  {
   "cell_type": "code",
   "execution_count": 13,
   "id": "86ff0223",
   "metadata": {
    "ExecuteTime": {
     "end_time": "2021-12-18T07:49:11.157517Z",
     "start_time": "2021-12-18T07:49:11.133388Z"
    }
   },
   "outputs": [],
   "source": [
    "df = df.drop_duplicates()"
   ]
  },
  {
   "cell_type": "markdown",
   "id": "8accc203",
   "metadata": {},
   "source": [
    "## filtering hashtags with regular expressions"
   ]
  },
  {
   "cell_type": "code",
   "execution_count": 14,
   "id": "e4ebef03",
   "metadata": {
    "ExecuteTime": {
     "end_time": "2021-12-18T07:49:11.161665Z",
     "start_time": "2021-12-18T07:49:11.158645Z"
    }
   },
   "outputs": [],
   "source": [
    "def clean_text(txt):\n",
    "    txt = str(txt).lower()\n",
    "    txt = re.sub(\"#\\w+\", \" \", txt)\n",
    "    txt = txt.strip()  # removes double whitespaces\n",
    "    return txt"
   ]
  },
  {
   "cell_type": "code",
   "execution_count": 15,
   "id": "f258ec73",
   "metadata": {
    "ExecuteTime": {
     "end_time": "2021-12-18T07:49:11.244702Z",
     "start_time": "2021-12-18T07:49:11.163307Z"
    }
   },
   "outputs": [],
   "source": [
    "df[\"tweets_clean\"] = df[\"tweets\"].apply(clean_text)"
   ]
  },
  {
   "cell_type": "markdown",
   "id": "54fc8c19",
   "metadata": {},
   "source": [
    "## encode the class labels"
   ]
  },
  {
   "cell_type": "code",
   "execution_count": 16,
   "id": "3842fe73",
   "metadata": {
    "ExecuteTime": {
     "end_time": "2021-12-18T07:49:11.254032Z",
     "start_time": "2021-12-18T07:49:11.245628Z"
    }
   },
   "outputs": [],
   "source": [
    "le = LabelEncoder()\n",
    "df[\"class_encoded\"] = le.fit_transform(df[\"class\"])"
   ]
  },
  {
   "cell_type": "markdown",
   "id": "cb7a4ae7",
   "metadata": {},
   "source": [
    "## splitting data into train and test data"
   ]
  },
  {
   "cell_type": "code",
   "execution_count": 17,
   "id": "80388487",
   "metadata": {
    "ExecuteTime": {
     "end_time": "2021-12-18T07:49:11.261813Z",
     "start_time": "2021-12-18T07:49:11.255101Z"
    }
   },
   "outputs": [],
   "source": [
    "X = df[\"tweets_clean\"]\n",
    "y = df[\"class_encoded\"]\n",
    "\n",
    "X_train, X_test, y_train, y_test = train_test_split(\n",
    "    X, y, test_size=0.2, random_state=42)  # train-test-relation is 80:20"
   ]
  },
  {
   "cell_type": "markdown",
   "id": "f55bfd8a",
   "metadata": {},
   "source": [
    "## convert tweets into vectors"
   ]
  },
  {
   "cell_type": "markdown",
   "id": "7566cf01",
   "metadata": {},
   "source": [
    "### approach 1: Count vectorizer"
   ]
  },
  {
   "cell_type": "code",
   "execution_count": 18,
   "id": "a02db713",
   "metadata": {
    "ExecuteTime": {
     "end_time": "2021-12-18T07:49:12.005298Z",
     "start_time": "2021-12-18T07:49:11.262845Z"
    }
   },
   "outputs": [],
   "source": [
    "cv = CountVectorizer(max_features=3000)\n",
    "\n",
    "X_train_cv = cv.fit_transform(X_train).toarray()\n",
    "X_test_cv = cv.transform(X_test).toarray()"
   ]
  },
  {
   "cell_type": "markdown",
   "id": "8b3e8ef6",
   "metadata": {
    "ExecuteTime": {
     "end_time": "2021-12-15T17:43:24.742103Z",
     "start_time": "2021-12-15T17:43:24.740388Z"
    }
   },
   "source": [
    "### approach 2: Tfidf vectorizer"
   ]
  },
  {
   "cell_type": "code",
   "execution_count": 19,
   "id": "25f87032",
   "metadata": {
    "ExecuteTime": {
     "end_time": "2021-12-18T07:49:12.761252Z",
     "start_time": "2021-12-18T07:49:12.006110Z"
    }
   },
   "outputs": [],
   "source": [
    "tfidf = TfidfVectorizer(max_features=3000)\n",
    "\n",
    "X_train_tfidf = tfidf.fit_transform(X_train).toarray()\n",
    "X_test_tfidf = tfidf.transform(X_test).toarray()"
   ]
  },
  {
   "cell_type": "markdown",
   "id": "4ebb34f3",
   "metadata": {},
   "source": [
    "### approach 3: using pretrained language model to build embeddings [takes really long!!!]"
   ]
  },
  {
   "cell_type": "code",
   "execution_count": 20,
   "id": "013c3823",
   "metadata": {
    "ExecuteTime": {
     "end_time": "2021-12-18T07:49:12.765844Z",
     "start_time": "2021-12-18T07:49:12.762032Z"
    }
   },
   "outputs": [],
   "source": [
    "def build_embeddings(data):\n",
    "    language_model = SentenceTransformer(\"quora-distilbert-multilingual\")\n",
    "    # Embedding creation\n",
    "    print(\"- creating embeddings\")\n",
    "    message_embeddings = [language_model.encode(str(i)) for i in tqdm(data)]\n",
    "    ar = np.asarray(message_embeddings)\n",
    "    df_BERT = pd.DataFrame(ar)\n",
    "    print(\"- embeddings created\")\n",
    "\n",
    "    return df_BERT"
   ]
  },
  {
   "cell_type": "code",
   "execution_count": 21,
   "id": "340923f7",
   "metadata": {
    "ExecuteTime": {
     "end_time": "2021-12-18T08:55:01.665278Z",
     "start_time": "2021-12-18T07:49:12.767194Z"
    }
   },
   "outputs": [
    {
     "name": "stdout",
     "output_type": "stream",
     "text": [
      "- creating embeddings\n"
     ]
    },
    {
     "data": {
      "application/vnd.jupyter.widget-view+json": {
       "model_id": "4bb07d549c514a018b1fac835c64628c",
       "version_major": 2,
       "version_minor": 0
      },
      "text/plain": [
       "  0%|          | 0/34730 [00:00<?, ?it/s]"
      ]
     },
     "metadata": {},
     "output_type": "display_data"
    },
    {
     "name": "stdout",
     "output_type": "stream",
     "text": [
      "- embeddings created\n",
      "- creating embeddings\n"
     ]
    },
    {
     "data": {
      "application/vnd.jupyter.widget-view+json": {
       "model_id": "aaf5c5c3f93240898d074a5f19d5d9a4",
       "version_major": 2,
       "version_minor": 0
      },
      "text/plain": [
       "  0%|          | 0/8683 [00:00<?, ?it/s]"
      ]
     },
     "metadata": {},
     "output_type": "display_data"
    },
    {
     "name": "stdout",
     "output_type": "stream",
     "text": [
      "- embeddings created\n"
     ]
    }
   ],
   "source": [
    "# takes round about 1 hour\n",
    "X_train_pretrained = build_embeddings(X_train)\n",
    "X_test_pretrained = build_embeddings(X_test)"
   ]
  },
  {
   "cell_type": "code",
   "execution_count": 22,
   "id": "93e474d6",
   "metadata": {
    "ExecuteTime": {
     "end_time": "2021-12-18T08:55:30.039692Z",
     "start_time": "2021-12-18T08:55:01.666218Z"
    }
   },
   "outputs": [],
   "source": [
    "# save data so that you do not have to run this all the time\n",
    "# the 'index = False' is necessary because otherwise, the old indeces will be saved as a new column\n",
    "X_train_pretrained.to_csv(\"../data/2_processed/X_train_pretrained.csv\", index=False)\n",
    "X_test_pretrained.to_csv(\"../data/2_processed/X_test_pretrained.csv\", index=False)"
   ]
  },
  {
   "cell_type": "code",
   "execution_count": 23,
   "id": "fb41ba93",
   "metadata": {
    "ExecuteTime": {
     "end_time": "2021-12-18T08:55:33.341840Z",
     "start_time": "2021-12-18T08:55:30.040644Z"
    }
   },
   "outputs": [],
   "source": [
    "# load data instead of recreating it\n",
    "X_train_pretrained = pd.read_csv(\"../data/2_processed/X_train_pretrained.csv\")\n",
    "X_test_pretrained = pd.read_csv(\"../data/2_processed/X_test_pretrained.csv\")"
   ]
  },
  {
   "cell_type": "markdown",
   "id": "8f99e1de",
   "metadata": {},
   "source": [
    "## end result of preprocessing"
   ]
  },
  {
   "cell_type": "code",
   "execution_count": 24,
   "id": "73e582fe",
   "metadata": {
    "ExecuteTime": {
     "end_time": "2021-12-18T08:55:33.348875Z",
     "start_time": "2021-12-18T08:55:33.342753Z"
    }
   },
   "outputs": [
    {
     "data": {
      "text/html": [
       "<div>\n",
       "<style scoped>\n",
       "    .dataframe tbody tr th:only-of-type {\n",
       "        vertical-align: middle;\n",
       "    }\n",
       "\n",
       "    .dataframe tbody tr th {\n",
       "        vertical-align: top;\n",
       "    }\n",
       "\n",
       "    .dataframe thead th {\n",
       "        text-align: right;\n",
       "    }\n",
       "</style>\n",
       "<table border=\"1\" class=\"dataframe\">\n",
       "  <thead>\n",
       "    <tr style=\"text-align: right;\">\n",
       "      <th></th>\n",
       "      <th>tweets</th>\n",
       "      <th>class</th>\n",
       "      <th>tweets_clean</th>\n",
       "      <th>class_encoded</th>\n",
       "    </tr>\n",
       "  </thead>\n",
       "  <tbody>\n",
       "    <tr>\n",
       "      <th>0</th>\n",
       "      <td>Fav moment in Sepp Blatter vid (0:20): \"We hav...</td>\n",
       "      <td>irony</td>\n",
       "      <td>fav moment in sepp blatter vid (0:20): \"we hav...</td>\n",
       "      <td>0</td>\n",
       "    </tr>\n",
       "    <tr>\n",
       "      <th>1</th>\n",
       "      <td>Just found this while walking my human.... #ir...</td>\n",
       "      <td>irony</td>\n",
       "      <td>just found this while walking my human....    ...</td>\n",
       "      <td>0</td>\n",
       "    </tr>\n",
       "    <tr>\n",
       "      <th>2</th>\n",
       "      <td>'Disrespected the wife of Prophet' - pseudo li...</td>\n",
       "      <td>irony</td>\n",
       "      <td>'disrespected the wife of prophet' - pseudo li...</td>\n",
       "      <td>0</td>\n",
       "    </tr>\n",
       "    <tr>\n",
       "      <th>3</th>\n",
       "      <td>Do you know that super yeay satisfying feeling...</td>\n",
       "      <td>irony</td>\n",
       "      <td>do you know that super yeay satisfying feeling...</td>\n",
       "      <td>0</td>\n",
       "    </tr>\n",
       "    <tr>\n",
       "      <th>4</th>\n",
       "      <td>If you're going to call someone ignorant and s...</td>\n",
       "      <td>irony</td>\n",
       "      <td>if you're going to call someone ignorant and s...</td>\n",
       "      <td>0</td>\n",
       "    </tr>\n",
       "    <tr>\n",
       "      <th>...</th>\n",
       "      <td>...</td>\n",
       "      <td>...</td>\n",
       "      <td>...</td>\n",
       "      <td>...</td>\n",
       "    </tr>\n",
       "    <tr>\n",
       "      <th>43454</th>\n",
       "      <td>#India 'Caste war' is back as politicians woo ...</td>\n",
       "      <td>regular</td>\n",
       "      <td>'caste war' is back as politicians woo obcs: n...</td>\n",
       "      <td>1</td>\n",
       "    </tr>\n",
       "    <tr>\n",
       "      <th>43455</th>\n",
       "      <td>AU #education #jobs Assistant Educator - Merma...</td>\n",
       "      <td>regular</td>\n",
       "      <td>au     assistant educator - mermaid waters: ql...</td>\n",
       "      <td>1</td>\n",
       "    </tr>\n",
       "    <tr>\n",
       "      <th>43456</th>\n",
       "      <td>OH #GOPDebate comments: Apparently \"Jeb\" sound...</td>\n",
       "      <td>regular</td>\n",
       "      <td>oh   comments: apparently \"jeb\" sounds like “p...</td>\n",
       "      <td>1</td>\n",
       "    </tr>\n",
       "    <tr>\n",
       "      <th>43457</th>\n",
       "      <td>All BMC #schools to include sex #education as ...</td>\n",
       "      <td>regular</td>\n",
       "      <td>all bmc   to include sex   as part of the curr...</td>\n",
       "      <td>1</td>\n",
       "    </tr>\n",
       "    <tr>\n",
       "      <th>43458</th>\n",
       "      <td>Firm 'hides' school when recruits apply #socia...</td>\n",
       "      <td>regular</td>\n",
       "      <td>firm 'hides' school when recruits apply       ...</td>\n",
       "      <td>1</td>\n",
       "    </tr>\n",
       "  </tbody>\n",
       "</table>\n",
       "<p>43413 rows × 4 columns</p>\n",
       "</div>"
      ],
      "text/plain": [
       "                                                  tweets    class  \\\n",
       "0      Fav moment in Sepp Blatter vid (0:20): \"We hav...    irony   \n",
       "1      Just found this while walking my human.... #ir...    irony   \n",
       "2      'Disrespected the wife of Prophet' - pseudo li...    irony   \n",
       "3      Do you know that super yeay satisfying feeling...    irony   \n",
       "4      If you're going to call someone ignorant and s...    irony   \n",
       "...                                                  ...      ...   \n",
       "43454  #India 'Caste war' is back as politicians woo ...  regular   \n",
       "43455  AU #education #jobs Assistant Educator - Merma...  regular   \n",
       "43456  OH #GOPDebate comments: Apparently \"Jeb\" sound...  regular   \n",
       "43457  All BMC #schools to include sex #education as ...  regular   \n",
       "43458  Firm 'hides' school when recruits apply #socia...  regular   \n",
       "\n",
       "                                            tweets_clean  class_encoded  \n",
       "0      fav moment in sepp blatter vid (0:20): \"we hav...              0  \n",
       "1      just found this while walking my human....    ...              0  \n",
       "2      'disrespected the wife of prophet' - pseudo li...              0  \n",
       "3      do you know that super yeay satisfying feeling...              0  \n",
       "4      if you're going to call someone ignorant and s...              0  \n",
       "...                                                  ...            ...  \n",
       "43454  'caste war' is back as politicians woo obcs: n...              1  \n",
       "43455  au     assistant educator - mermaid waters: ql...              1  \n",
       "43456  oh   comments: apparently \"jeb\" sounds like “p...              1  \n",
       "43457  all bmc   to include sex   as part of the curr...              1  \n",
       "43458  firm 'hides' school when recruits apply       ...              1  \n",
       "\n",
       "[43413 rows x 4 columns]"
      ]
     },
     "execution_count": 24,
     "metadata": {},
     "output_type": "execute_result"
    }
   ],
   "source": [
    "df"
   ]
  },
  {
   "cell_type": "markdown",
   "id": "98b395f4",
   "metadata": {
    "ExecuteTime": {
     "end_time": "2021-12-15T18:05:57.938527Z",
     "start_time": "2021-12-15T18:05:57.936813Z"
    }
   },
   "source": [
    "# train and evaluate model"
   ]
  },
  {
   "cell_type": "markdown",
   "id": "88c79d1b",
   "metadata": {},
   "source": [
    "## linear Support Vector Classifier"
   ]
  },
  {
   "cell_type": "markdown",
   "id": "6a629896",
   "metadata": {},
   "source": [
    "### Count Vectorizer"
   ]
  },
  {
   "cell_type": "code",
   "execution_count": 25,
   "id": "f2034d3b",
   "metadata": {
    "ExecuteTime": {
     "end_time": "2021-12-18T08:55:35.235359Z",
     "start_time": "2021-12-18T08:55:33.349633Z"
    }
   },
   "outputs": [
    {
     "name": "stdout",
     "output_type": "stream",
     "text": [
      "              precision    recall  f1-score   support\n",
      "\n",
      "           0       0.81      0.81      0.81      4592\n",
      "           1       0.79      0.79      0.79      4091\n",
      "\n",
      "    accuracy                           0.80      8683\n",
      "   macro avg       0.80      0.80      0.80      8683\n",
      "weighted avg       0.80      0.80      0.80      8683\n",
      "\n"
     ]
    },
    {
     "name": "stderr",
     "output_type": "stream",
     "text": [
      "/opt/anaconda3/envs/exp/lib/python3.9/site-packages/sklearn/svm/_base.py:985: ConvergenceWarning: Liblinear failed to converge, increase the number of iterations.\n",
      "  warnings.warn(\"Liblinear failed to converge, increase \"\n"
     ]
    }
   ],
   "source": [
    "lsvc_cv = LinearSVC(random_state=0, tol=1e-5, max_iter=1000)\n",
    "lsvc_cv.fit(X_train_cv, y_train)\n",
    "pred_lsvc_cv = lsvc_cv.predict(X_test_cv)\n",
    "print(classification_report(pred_lsvc_cv, y_test))"
   ]
  },
  {
   "cell_type": "code",
   "execution_count": 26,
   "id": "e5e5c264",
   "metadata": {
    "ExecuteTime": {
     "end_time": "2021-12-18T08:55:35.323735Z",
     "start_time": "2021-12-18T08:55:35.236618Z"
    }
   },
   "outputs": [
    {
     "data": {
      "text/plain": [
       "<AxesSubplot:>"
      ]
     },
     "execution_count": 26,
     "metadata": {},
     "output_type": "execute_result"
    },
    {
     "data": {
      "image/png": "[encoded data removed]",
      "text/plain": [
       "<Figure size 432x288 with 2 Axes>"
      ]
     },
     "metadata": {
      "needs_background": "light"
     },
     "output_type": "display_data"
    }
   ],
   "source": [
    "sns.heatmap(confusion_matrix(y_test, pred_lsvc_cv), annot=True, fmt='d')"
   ]
  },
  {
   "cell_type": "markdown",
   "id": "d7af6b36",
   "metadata": {},
   "source": [
    "### Tfidf vectorizer"
   ]
  },
  {
   "cell_type": "code",
   "execution_count": 27,
   "id": "be686eb2",
   "metadata": {
    "ExecuteTime": {
     "end_time": "2021-12-18T08:55:35.957433Z",
     "start_time": "2021-12-18T08:55:35.324922Z"
    }
   },
   "outputs": [
    {
     "name": "stdout",
     "output_type": "stream",
     "text": [
      "              precision    recall  f1-score   support\n",
      "\n",
      "           0       0.83      0.80      0.81      4749\n",
      "           1       0.77      0.80      0.78      3934\n",
      "\n",
      "    accuracy                           0.80      8683\n",
      "   macro avg       0.80      0.80      0.80      8683\n",
      "weighted avg       0.80      0.80      0.80      8683\n",
      "\n"
     ]
    }
   ],
   "source": [
    "lsvc_tfidf = LinearSVC(random_state=0, tol=1e-5, max_iter=1000)\n",
    "lsvc_tfidf.fit(X_train_tfidf, y_train)\n",
    "pred_lsvc_tfidf = lsvc_tfidf.predict(X_test_tfidf)\n",
    "print(classification_report(pred_lsvc_tfidf, y_test))"
   ]
  },
  {
   "cell_type": "code",
   "execution_count": 28,
   "id": "ed4132dd",
   "metadata": {
    "ExecuteTime": {
     "end_time": "2021-12-18T08:55:36.050051Z",
     "start_time": "2021-12-18T08:55:35.962778Z"
    }
   },
   "outputs": [
    {
     "data": {
      "text/plain": [
       "<AxesSubplot:>"
      ]
     },
     "execution_count": 28,
     "metadata": {},
     "output_type": "execute_result"
    },
    {
     "data": {
      "image/png": "[encoded data removed]",
      "text/plain": [
       "<Figure size 432x288 with 2 Axes>"
      ]
     },
     "metadata": {
      "needs_background": "light"
     },
     "output_type": "display_data"
    }
   ],
   "source": [
    "sns.heatmap(confusion_matrix(y_test, pred_lsvc_tfidf), annot=True, fmt='d')"
   ]
  },
  {
   "cell_type": "markdown",
   "id": "c78db6a4",
   "metadata": {},
   "source": [
    "### embeddings from language model"
   ]
  },
  {
   "cell_type": "code",
   "execution_count": 29,
   "id": "b4374454",
   "metadata": {
    "ExecuteTime": {
     "end_time": "2021-12-18T08:56:21.490053Z",
     "start_time": "2021-12-18T08:55:36.051667Z"
    }
   },
   "outputs": [
    {
     "name": "stdout",
     "output_type": "stream",
     "text": [
      "              precision    recall  f1-score   support\n",
      "\n",
      "           0       0.80      0.82      0.81      4498\n",
      "           1       0.80      0.79      0.79      4185\n",
      "\n",
      "    accuracy                           0.80      8683\n",
      "   macro avg       0.80      0.80      0.80      8683\n",
      "weighted avg       0.80      0.80      0.80      8683\n",
      "\n"
     ]
    },
    {
     "name": "stderr",
     "output_type": "stream",
     "text": [
      "/opt/anaconda3/envs/exp/lib/python3.9/site-packages/sklearn/svm/_base.py:985: ConvergenceWarning: Liblinear failed to converge, increase the number of iterations.\n",
      "  warnings.warn(\"Liblinear failed to converge, increase \"\n"
     ]
    }
   ],
   "source": [
    "lsvc_pretrained = LinearSVC(random_state=0, tol=1e-5, max_iter = 1000)\n",
    "lsvc_pretrained.fit(X_train_pretrained, y_train)\n",
    "pred_lsvc_pretrained = lsvc_pretrained.predict(X_test_pretrained)\n",
    "print(classification_report(pred_lsvc_pretrained, y_test))"
   ]
  },
  {
   "cell_type": "code",
   "execution_count": 30,
   "id": "33862e83",
   "metadata": {
    "ExecuteTime": {
     "end_time": "2021-12-18T08:56:21.571862Z",
     "start_time": "2021-12-18T08:56:21.491269Z"
    }
   },
   "outputs": [
    {
     "data": {
      "image/png": "[encoded data removed]",
      "text/plain": [
       "<Figure size 432x288 with 2 Axes>"
      ]
     },
     "metadata": {
      "needs_background": "light"
     },
     "output_type": "display_data"
    }
   ],
   "source": [
    "sns.heatmap(confusion_matrix(y_test, pred_lsvc_pretrained), annot=True, fmt='d');"
   ]
  },
  {
   "cell_type": "markdown",
   "id": "208ea293",
   "metadata": {},
   "source": [
    "## logistic regression"
   ]
  },
  {
   "cell_type": "markdown",
   "id": "b0ea5f94",
   "metadata": {},
   "source": [
    "### Count Vectorizer"
   ]
  },
  {
   "cell_type": "code",
   "execution_count": 31,
   "id": "e1bc5b62",
   "metadata": {
    "ExecuteTime": {
     "end_time": "2021-12-18T08:56:22.600982Z",
     "start_time": "2021-12-18T08:56:21.572791Z"
    }
   },
   "outputs": [
    {
     "name": "stdout",
     "output_type": "stream",
     "text": [
      "              precision    recall  f1-score   support\n",
      "\n",
      "           0       0.82      0.81      0.82      4631\n",
      "           1       0.79      0.80      0.79      4052\n",
      "\n",
      "    accuracy                           0.81      8683\n",
      "   macro avg       0.80      0.81      0.80      8683\n",
      "weighted avg       0.81      0.81      0.81      8683\n",
      "\n"
     ]
    }
   ],
   "source": [
    "lr_cv = LogisticRegression(penalty=\"l1\", solver=\"liblinear\", random_state=0)\n",
    "lr_cv.fit(X_train_cv, y_train)\n",
    "pred_lr_cv = lr_cv.predict(X_test_cv)\n",
    "print(classification_report(pred_lr_cv, y_test))"
   ]
  },
  {
   "cell_type": "code",
   "execution_count": 32,
   "id": "50a955f5",
   "metadata": {
    "ExecuteTime": {
     "end_time": "2021-12-18T08:56:22.684766Z",
     "start_time": "2021-12-18T08:56:22.601928Z"
    }
   },
   "outputs": [
    {
     "data": {
      "text/plain": [
       "<AxesSubplot:>"
      ]
     },
     "execution_count": 32,
     "metadata": {},
     "output_type": "execute_result"
    },
    {
     "data": {
      "image/png": "[encoded data removed]",
      "text/plain": [
       "<Figure size 432x288 with 2 Axes>"
      ]
     },
     "metadata": {
      "needs_background": "light"
     },
     "output_type": "display_data"
    }
   ],
   "source": [
    "sns.heatmap(confusion_matrix(y_test, pred_lr_cv), annot=True, fmt='d')"
   ]
  },
  {
   "cell_type": "markdown",
   "id": "30d77001",
   "metadata": {},
   "source": [
    "### Tfidf vectorizer"
   ]
  },
  {
   "cell_type": "code",
   "execution_count": 33,
   "id": "fcf1d91a",
   "metadata": {
    "ExecuteTime": {
     "end_time": "2021-12-18T08:56:23.345128Z",
     "start_time": "2021-12-18T08:56:22.686187Z"
    }
   },
   "outputs": [
    {
     "name": "stdout",
     "output_type": "stream",
     "text": [
      "              precision    recall  f1-score   support\n",
      "\n",
      "           0       0.84      0.80      0.82      4819\n",
      "           1       0.76      0.81      0.79      3864\n",
      "\n",
      "    accuracy                           0.80      8683\n",
      "   macro avg       0.80      0.80      0.80      8683\n",
      "weighted avg       0.81      0.80      0.80      8683\n",
      "\n"
     ]
    }
   ],
   "source": [
    "lr_tfidf = LogisticRegression(penalty=\"l1\", solver=\"liblinear\", random_state=0)\n",
    "lr_tfidf.fit(X_train_tfidf, y_train)\n",
    "pred_lr_tfidf = lr_tfidf.predict(X_test_tfidf)\n",
    "print(classification_report(pred_lr_tfidf, y_test))"
   ]
  },
  {
   "cell_type": "code",
   "execution_count": 34,
   "id": "137520a8",
   "metadata": {
    "ExecuteTime": {
     "end_time": "2021-12-18T08:56:23.427911Z",
     "start_time": "2021-12-18T08:56:23.346205Z"
    }
   },
   "outputs": [
    {
     "data": {
      "text/plain": [
       "<AxesSubplot:>"
      ]
     },
     "execution_count": 34,
     "metadata": {},
     "output_type": "execute_result"
    },
    {
     "data": {
      "image/png": "[encoded data removed]",
      "text/plain": [
       "<Figure size 432x288 with 2 Axes>"
      ]
     },
     "metadata": {
      "needs_background": "light"
     },
     "output_type": "display_data"
    }
   ],
   "source": [
    "sns.heatmap(confusion_matrix(y_test, pred_lr_tfidf), annot=True, fmt='d')"
   ]
  },
  {
   "cell_type": "markdown",
   "id": "eecedf7e",
   "metadata": {},
   "source": [
    "### embeddings from language model"
   ]
  },
  {
   "cell_type": "code",
   "execution_count": 35,
   "id": "ea76ad33",
   "metadata": {
    "ExecuteTime": {
     "end_time": "2021-12-18T08:58:24.889945Z",
     "start_time": "2021-12-18T08:56:23.429014Z"
    }
   },
   "outputs": [
    {
     "name": "stdout",
     "output_type": "stream",
     "text": [
      "              precision    recall  f1-score   support\n",
      "\n",
      "           0       0.81      0.82      0.81      4542\n",
      "           1       0.80      0.79      0.79      4141\n",
      "\n",
      "    accuracy                           0.80      8683\n",
      "   macro avg       0.80      0.80      0.80      8683\n",
      "weighted avg       0.80      0.80      0.80      8683\n",
      "\n"
     ]
    }
   ],
   "source": [
    "lr_pretrained = LogisticRegression(penalty=\"l1\", solver=\"liblinear\", random_state=0)\n",
    "lr_pretrained.fit(X_train_pretrained, y_train)\n",
    "pred_lr_pretrained = lr_pretrained.predict(X_test_pretrained)\n",
    "print(classification_report(pred_lr_pretrained, y_test))"
   ]
  },
  {
   "cell_type": "code",
   "execution_count": 36,
   "id": "ecd7d3d9",
   "metadata": {
    "ExecuteTime": {
     "end_time": "2021-12-18T08:58:25.037512Z",
     "start_time": "2021-12-18T08:58:24.890974Z"
    }
   },
   "outputs": [
    {
     "data": {
      "image/png": "[encoded data removed]",
      "text/plain": [
       "<Figure size 432x288 with 2 Axes>"
      ]
     },
     "metadata": {
      "needs_background": "light"
     },
     "output_type": "display_data"
    }
   ],
   "source": [
    "sns.heatmap(confusion_matrix(y_test, pred_lr_pretrained), annot=True, fmt='d');"
   ]
  },
  {
   "cell_type": "markdown",
   "id": "a983b7fc",
   "metadata": {},
   "source": [
    "## tpot [takes some time]"
   ]
  },
  {
   "cell_type": "raw",
   "id": "410b4909",
   "metadata": {
    "ExecuteTime": {
     "end_time": "2021-12-15T18:46:19.332919Z",
     "start_time": "2021-12-15T18:44:33.195832Z"
    }
   },
   "source": [
    "# substitute X_train_cv with X_train_tfidf or X_train_pretrained and analog X_test_cv to try different combinations out\n",
    "pipeline_optimizer = TPOTClassifier(generations=5, population_size=20, cv=5,\n",
    "                                    random_state=42, verbosity=2)\n",
    "\n",
    "pipeline_optimizer.fit(X_train_cv, y_train)\n",
    "print(pipeline_optimizer.score(X_test_cv, y_test))"
   ]
  },
  {
   "cell_type": "raw",
   "id": "1a65a1eb",
   "metadata": {},
   "source": [
    "# export tpot model\n",
    "pipeline_optimizer.export('tpot_exported_pipeline.py')"
   ]
  },
  {
   "cell_type": "markdown",
   "id": "957bd511",
   "metadata": {},
   "source": [
    "# test best model with own inputs"
   ]
  },
  {
   "cell_type": "code",
   "execution_count": 37,
   "id": "eb62fb94",
   "metadata": {
    "ExecuteTime": {
     "end_time": "2021-12-18T09:17:41.807065Z",
     "start_time": "2021-12-18T09:17:41.796220Z"
    }
   },
   "outputs": [
    {
     "name": "stdout",
     "output_type": "stream",
     "text": [
      "prediction:  [0]\n",
      "encoded prediction:  ['irony']\n"
     ]
    }
   ],
   "source": [
    "example = \"Of course, you can have all my money. Why would I need it?!?!?!\"\n",
    "example_vec = cv.transform([example]).toarray()\n",
    "prediction = lr_cv.predict(example_vec)\n",
    "encoded_prediction = le.inverse_transform(prediction)\n",
    "print(\"prediction: \", prediction)\n",
    "print(\"encoded prediction: \", encoded_prediction)"
   ]
  },
  {
   "cell_type": "markdown",
   "id": "891c7d0a",
   "metadata": {},
   "source": [
    "# save and load model"
   ]
  },
  {
   "cell_type": "code",
   "execution_count": 38,
   "id": "55a0b0f7",
   "metadata": {
    "ExecuteTime": {
     "end_time": "2021-12-18T09:17:43.182429Z",
     "start_time": "2021-12-18T09:17:43.178404Z"
    }
   },
   "outputs": [],
   "source": [
    "model_path = \"../artifacts/irony_model.pkl\"\n",
    "model = lr_cv"
   ]
  },
  {
   "cell_type": "markdown",
   "id": "9773ec0d",
   "metadata": {},
   "source": [
    "## save model"
   ]
  },
  {
   "cell_type": "code",
   "execution_count": 39,
   "id": "32a1d0ba",
   "metadata": {
    "ExecuteTime": {
     "end_time": "2021-12-18T09:17:44.371458Z",
     "start_time": "2021-12-18T09:17:44.365184Z"
    }
   },
   "outputs": [],
   "source": [
    "with open(model_path, 'wb') as f:\n",
    "    pickle.dump(model, f)"
   ]
  },
  {
   "cell_type": "markdown",
   "id": "0682cedc",
   "metadata": {},
   "source": [
    "## load model"
   ]
  },
  {
   "cell_type": "code",
   "execution_count": 40,
   "id": "4229b193",
   "metadata": {
    "ExecuteTime": {
     "end_time": "2021-12-18T09:17:47.002546Z",
     "start_time": "2021-12-18T09:17:46.996505Z"
    }
   },
   "outputs": [],
   "source": [
    "with open(model_path, 'rb') as f:\n",
    "        model = pickle.load(f)"
   ]
  },
  {
   "cell_type": "code",
   "execution_count": null,
   "id": "fff9363e",
   "metadata": {},
   "outputs": [],
   "source": []
  }
 ],
 "metadata": {
  "kernelspec": {
   "display_name": "Python 3 (ipykernel)",
   "language": "python",
   "name": "python3"
  },
  "language_info": {
   "codemirror_mode": {
    "name": "ipython",
    "version": 3
   },
   "file_extension": ".py",
   "mimetype": "text/x-python",
   "name": "python",
   "nbconvert_exporter": "python",
   "pygments_lexer": "ipython3",
   "version": "3.9.7"
  },
  "toc": {
   "base_numbering": 1,
   "nav_menu": {},
   "number_sections": true,
   "sideBar": true,
   "skip_h1_title": false,
   "title_cell": "Table of Contents",
   "title_sidebar": "Contents",
   "toc_cell": false,
   "toc_position": {},
   "toc_section_display": true,
   "toc_window_display": false
  }
 },
 "nbformat": 4,
 "nbformat_minor": 5
}
