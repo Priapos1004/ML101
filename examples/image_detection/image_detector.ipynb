{
 "cells": [
  {
   "cell_type": "markdown",
   "id": "3c287ea4",
   "metadata": {},
   "source": [
    "# Libraries"
   ]
  },
  {
   "cell_type": "code",
   "execution_count": null,
   "id": "ca82dcd0",
   "metadata": {
    "ExecuteTime": {
     "start_time": "2022-02-09T14:13:12.959Z"
    }
   },
   "outputs": [],
   "source": [
    "import pytesseract\n",
    "pytesseract.pytesseract.tesseract_cmd = r'/opt/homebrew/Cellar/tesseract/5.0.1/bin/tesseract'\n",
    "import numpy as np\n",
    "import time\n",
    "import cv2\n",
    "from IPython.display import Image\n",
    "from PIL import Image as im\n",
    "import face_recognition"
   ]
  },
  {
   "cell_type": "markdown",
   "id": "9419f130",
   "metadata": {},
   "source": [
    "# Image detection"
   ]
  },
  {
   "cell_type": "markdown",
   "id": "a74b4515",
   "metadata": {},
   "source": [
    "## images filepaths"
   ]
  },
  {
   "cell_type": "code",
   "execution_count": null,
   "id": "5ea514d7",
   "metadata": {
    "ExecuteTime": {
     "start_time": "2022-02-09T14:13:12.960Z"
    }
   },
   "outputs": [],
   "source": [
    "filepaths = [\"data/team.png\", \"data/street.jpg\", \"data/scream.jpg\", \"data/group.jpeg\", \"data/word.png\", \"data/Cat.jpg\", \"data/person.jpg\", \"data/cover.jpeg\"]"
   ]
  },
  {
   "cell_type": "markdown",
   "id": "b4fee7f8",
   "metadata": {},
   "source": [
    "## detect text in image function"
   ]
  },
  {
   "cell_type": "code",
   "execution_count": null,
   "id": "e7d3844d",
   "metadata": {
    "ExecuteTime": {
     "start_time": "2022-02-09T14:13:12.961Z"
    }
   },
   "outputs": [],
   "source": [
    "def hasText(filepath):\n",
    "    text = pytesseract.image_to_string(filepath).strip()\n",
    "    if text != \"\":\n",
    "        return True\n",
    "    else:\n",
    "        return False"
   ]
  },
  {
   "cell_type": "markdown",
   "id": "30ac4bee",
   "metadata": {},
   "source": [
    "## detect person in image function"
   ]
  },
  {
   "cell_type": "code",
   "execution_count": null,
   "id": "ae9db614",
   "metadata": {
    "ExecuteTime": {
     "start_time": "2022-02-09T14:13:12.961Z"
    }
   },
   "outputs": [],
   "source": [
    "def hasPerson(filepath):\n",
    "    INPUT_FILE=filepath\n",
    "    LABELS_FILE='model/coco.names'\n",
    "    CONFIG_FILE='model/yolov3.cfg'\n",
    "    WEIGHTS_FILE='model/yolov3.weights'\n",
    "    CONFIDENCE_THRESHOLD=0.3\n",
    "\n",
    "    LABELS = open(LABELS_FILE).read().strip().split(\"\\n\")\n",
    "\n",
    "    np.random.seed(4)\n",
    "    COLORS = np.random.randint(0, 255, size=(len(LABELS), 3),\n",
    "        dtype=\"uint8\")\n",
    "\n",
    "\n",
    "    net = cv2.dnn.readNetFromDarknet(CONFIG_FILE, WEIGHTS_FILE)\n",
    "\n",
    "    image = cv2.imread(INPUT_FILE)\n",
    "    (H, W) = image.shape[:2]\n",
    "\n",
    "    # determine only the *output* layer names that we need from YOLO\n",
    "    ln = net.getLayerNames()\n",
    "    ln = [ln[i - 1] for i in net.getUnconnectedOutLayers()] # if error, try i[0]-1\n",
    "\n",
    "\n",
    "    blob = cv2.dnn.blobFromImage(image, 1 / 255.0, (416, 416),\n",
    "        swapRB=True, crop=False)\n",
    "    net.setInput(blob)\n",
    "    start = time.time()\n",
    "    layerOutputs = net.forward(ln)\n",
    "    end = time.time()\n",
    "\n",
    "\n",
    "    print(\"[INFO] YOLO took {:.6f} seconds\".format(end - start))\n",
    "\n",
    "\n",
    "    # initialize our lists of detected bounding boxes, confidences, and\n",
    "    # class IDs, respectively\n",
    "    boxes = []\n",
    "    confidences = []\n",
    "    classIDs = []\n",
    "\n",
    "    # loop over each of the layer outputs\n",
    "    for output in layerOutputs:\n",
    "        # loop over each of the detections\n",
    "        for detection in output:\n",
    "            # extract the class ID and confidence (i.e., probability) of\n",
    "            # the current object detection\n",
    "            scores = detection[5:]\n",
    "            classID = np.argmax(scores)\n",
    "            confidence = scores[classID]\n",
    "\n",
    "            # filter out weak predictions by ensuring the detected\n",
    "            # probability is greater than the minimum probability\n",
    "            if confidence > CONFIDENCE_THRESHOLD:\n",
    "                # scale the bounding box coordinates back relative to the\n",
    "                # size of the image, keeping in mind that YOLO actually\n",
    "                # returns the center (x, y)-coordinates of the bounding\n",
    "                # box followed by the boxes' width and height\n",
    "                box = detection[0:4] * np.array([W, H, W, H])\n",
    "                (centerX, centerY, width, height) = box.astype(\"int\")\n",
    "\n",
    "                # use the center (x, y)-coordinates to derive the top and\n",
    "                # and left corner of the bounding box\n",
    "                x = int(centerX - (width / 2))\n",
    "                y = int(centerY - (height / 2))\n",
    "\n",
    "                # update our list of bounding box coordinates, confidences,\n",
    "                # and class IDs\n",
    "                boxes.append([x, y, int(width), int(height)])\n",
    "                confidences.append(float(confidence))\n",
    "                classIDs.append(classID)\n",
    "                \n",
    "\n",
    "    # apply non-maxima suppression to suppress weak, overlapping bounding\n",
    "    # boxes\n",
    "    idxs = cv2.dnn.NMSBoxes(boxes, confidences, CONFIDENCE_THRESHOLD, CONFIDENCE_THRESHOLD)\n",
    "    \n",
    "    if len(idxs) > 0:\n",
    "        # loop over the indexes we are keeping\n",
    "        for i in idxs.flatten():\n",
    "            \n",
    "            if LABELS[classIDs[i]] == \"person\":\n",
    "                return True\n",
    "            \n",
    "    return False"
   ]
  },
  {
   "cell_type": "markdown",
   "id": "0afe191a",
   "metadata": {},
   "source": [
    "## run functions"
   ]
  },
  {
   "cell_type": "code",
   "execution_count": null,
   "id": "d1c07c52",
   "metadata": {
    "ExecuteTime": {
     "start_time": "2022-02-09T14:13:12.962Z"
    }
   },
   "outputs": [],
   "source": [
    "text_found = {}\n",
    "for i in filepaths:\n",
    "    \n",
    "    # display(Image(filename=i))\n",
    "    # print(\"found Text: \\n\"+pytesseract.image_to_string(i))\n",
    "    answer = hasText(i)\n",
    "    text_found[i] = answer\n",
    "    print(i, \" --> text found: \", answer)"
   ]
  },
  {
   "cell_type": "code",
   "execution_count": null,
   "id": "4b9611ab",
   "metadata": {
    "ExecuteTime": {
     "start_time": "2022-02-09T14:13:12.963Z"
    },
    "scrolled": true
   },
   "outputs": [],
   "source": [
    "person_found = {}\n",
    "for i in filepaths:\n",
    "    \n",
    "    # display(Image(filename=i))\n",
    "\n",
    "    answer = hasPerson(i)\n",
    "    person_found[i] = answer\n",
    "    print(i, \" --> person found: \", answer)"
   ]
  },
  {
   "cell_type": "code",
   "execution_count": null,
   "id": "05f60c6e",
   "metadata": {
    "ExecuteTime": {
     "start_time": "2022-02-09T14:13:12.963Z"
    },
    "scrolled": false
   },
   "outputs": [],
   "source": [
    "for i in filepaths:\n",
    "    print(i, \" text: \", text_found[i], \" person: \", person_found[i])\n",
    "    display(Image(filename=i))"
   ]
  },
  {
   "cell_type": "markdown",
   "id": "254d8b5c",
   "metadata": {},
   "source": [
    "# detect objects in images"
   ]
  },
  {
   "cell_type": "code",
   "execution_count": null,
   "id": "af5eb072",
   "metadata": {
    "ExecuteTime": {
     "start_time": "2022-02-09T14:13:12.964Z"
    }
   },
   "outputs": [],
   "source": [
    "def findObjects(filepath):\n",
    "    INPUT_FILE=filepath\n",
    "    LABELS_FILE='model/coco.names'\n",
    "    CONFIG_FILE='model/yolov3.cfg'\n",
    "    WEIGHTS_FILE='model/yolov3.weights'\n",
    "    CONFIDENCE_THRESHOLD=0.3\n",
    "\n",
    "    LABELS = open(LABELS_FILE).read().strip().split(\"\\n\")\n",
    "\n",
    "    np.random.seed(4)\n",
    "    COLORS = np.random.randint(0, 255, size=(len(LABELS), 3),\n",
    "        dtype=\"uint8\")\n",
    "\n",
    "\n",
    "    net = cv2.dnn.readNetFromDarknet(CONFIG_FILE, WEIGHTS_FILE)\n",
    "\n",
    "    image = cv2.imread(INPUT_FILE)\n",
    "    (H, W) = image.shape[:2]\n",
    "\n",
    "    # determine only the *output* layer names that we need from YOLO\n",
    "    ln = net.getLayerNames()\n",
    "    ln = [ln[i - 1] for i in net.getUnconnectedOutLayers()] # if error, try i[0]-1\n",
    "\n",
    "\n",
    "    blob = cv2.dnn.blobFromImage(image, 1 / 255.0, (416, 416),\n",
    "        swapRB=True, crop=False)\n",
    "    net.setInput(blob)\n",
    "    start = time.time()\n",
    "    layerOutputs = net.forward(ln)\n",
    "    end = time.time()\n",
    "\n",
    "\n",
    "    print(\"[INFO] YOLO took {:.6f} seconds\".format(end - start))\n",
    "\n",
    "\n",
    "    # initialize our lists of detected bounding boxes, confidences, and\n",
    "    # class IDs, respectively\n",
    "    boxes = []\n",
    "    confidences = []\n",
    "    classIDs = []\n",
    "\n",
    "    # loop over each of the layer outputs\n",
    "    for output in layerOutputs:\n",
    "        # loop over each of the detections\n",
    "        for detection in output:\n",
    "            # extract the class ID and confidence (i.e., probability) of\n",
    "            # the current object detection\n",
    "            scores = detection[5:]\n",
    "            classID = np.argmax(scores)\n",
    "            confidence = scores[classID]\n",
    "\n",
    "            # filter out weak predictions by ensuring the detected\n",
    "            # probability is greater than the minimum probability\n",
    "            if confidence > CONFIDENCE_THRESHOLD:\n",
    "                # scale the bounding box coordinates back relative to the\n",
    "                # size of the image, keeping in mind that YOLO actually\n",
    "                # returns the center (x, y)-coordinates of the bounding\n",
    "                # box followed by the boxes' width and height\n",
    "                box = detection[0:4] * np.array([W, H, W, H])\n",
    "                (centerX, centerY, width, height) = box.astype(\"int\")\n",
    "\n",
    "                # use the center (x, y)-coordinates to derive the top and\n",
    "                # and left corner of the bounding box\n",
    "                x = int(centerX - (width / 2))\n",
    "                y = int(centerY - (height / 2))\n",
    "\n",
    "                # update our list of bounding box coordinates, confidences,\n",
    "                # and class IDs\n",
    "                boxes.append([x, y, int(width), int(height)])\n",
    "                confidences.append(float(confidence))\n",
    "                classIDs.append(classID)\n",
    "                \n",
    "\n",
    "    # apply non-maxima suppression to suppress weak, overlapping bounding\n",
    "    # boxes\n",
    "    idxs = cv2.dnn.NMSBoxes(boxes, confidences, CONFIDENCE_THRESHOLD, CONFIDENCE_THRESHOLD)\n",
    "    \n",
    "    # code to show boxes and pictures\n",
    "    \n",
    "    # ensure at least one detection exists\n",
    "    if len(idxs) > 0:\n",
    "        # loop over the indexes we are keeping\n",
    "        for i in idxs.flatten():\n",
    "            # extract the bounding box coordinates\n",
    "            (x, y) = (boxes[i][0], boxes[i][1])\n",
    "            (w, h) = (boxes[i][2], boxes[i][3])\n",
    "\n",
    "            color = [int(c) for c in COLORS[classIDs[i]]]\n",
    "\n",
    "            cv2.rectangle(image, (x, y), (x + w, y + h), color, 2)\n",
    "            text = \"{}: {:.4f}\".format(LABELS[classIDs[i]], confidences[i])\n",
    "            cv2.putText(image, text, (x, y - 5), cv2.FONT_HERSHEY_SIMPLEX,\n",
    "                0.5, color, 2)\n",
    "\n",
    "    # show the output image\n",
    "    pil_image = im.fromarray(image)\n",
    "    pil_image.show()"
   ]
  },
  {
   "cell_type": "code",
   "execution_count": null,
   "id": "0e0937ce",
   "metadata": {
    "ExecuteTime": {
     "start_time": "2022-02-09T14:13:12.964Z"
    }
   },
   "outputs": [],
   "source": [
    "findObjects(\"data/cover.jpeg\")"
   ]
  },
  {
   "cell_type": "markdown",
   "id": "29bcccb5",
   "metadata": {},
   "source": [
    "# face recognition"
   ]
  },
  {
   "cell_type": "code",
   "execution_count": null,
   "id": "64b075d3",
   "metadata": {
    "ExecuteTime": {
     "start_time": "2022-02-09T14:13:12.965Z"
    }
   },
   "outputs": [],
   "source": [
    "image = face_recognition.load_image_file(\"data/group.jpeg\")"
   ]
  },
  {
   "cell_type": "code",
   "execution_count": null,
   "id": "ef7f1186",
   "metadata": {
    "ExecuteTime": {
     "start_time": "2022-02-09T14:13:12.965Z"
    }
   },
   "outputs": [],
   "source": [
    "face_locations = face_recognition.face_locations(image, number_of_times_to_upsample=0, model=\"cnn\")\n",
    "\n",
    "print(\"I found {} face(s) in this photograph.\".format(len(face_locations)))\n",
    "\n",
    "display(Image(filename=\"data/group.jpeg\"))\n",
    "\n",
    "for face_location in face_locations:\n",
    "    \n",
    "    # Print the location of each face in this image\n",
    "    top, right, bottom, left = face_location\n",
    "    print(\"A face is located at pixel location Top: {}, Left: {}, Bottom: {}, Right: {}\".format(top, left, bottom, right))\n",
    "\n",
    "    # You can access the actual face itself like this:\n",
    "    face_image = image[top:bottom, left:right]\n",
    "    pil_image = im.fromarray(face_image)\n",
    "    pil_image.show()"
   ]
  },
  {
   "cell_type": "code",
   "execution_count": null,
   "id": "38e94bbc",
   "metadata": {},
   "outputs": [],
   "source": []
  }
 ],
 "metadata": {
  "kernelspec": {
   "display_name": "Python 3 (ipykernel)",
   "language": "python",
   "name": "python3"
  },
  "language_info": {
   "codemirror_mode": {
    "name": "ipython",
    "version": 3
   },
   "file_extension": ".py",
   "mimetype": "text/x-python",
   "name": "python",
   "nbconvert_exporter": "python",
   "pygments_lexer": "ipython3",
   "version": "3.9.7"
  },
  "toc": {
   "base_numbering": 1,
   "nav_menu": {},
   "number_sections": true,
   "sideBar": true,
   "skip_h1_title": false,
   "title_cell": "Table of Contents",
   "title_sidebar": "Contents",
   "toc_cell": false,
   "toc_position": {},
   "toc_section_display": true,
   "toc_window_display": false
  }
 },
 "nbformat": 4,
 "nbformat_minor": 5
}
